{
 "cells": [
  {
   "cell_type": "code",
   "execution_count": 1,
   "metadata": {},
   "outputs": [],
   "source": [
    "from tensorflow.keras import datasets\n",
    "from PIL import Image\n",
    "import pandas as pd\n",
    "\n",
    "def saveImages(images, path):\n",
    "    for i in range(len(images)):\n",
    "        im = Image.fromarray(images[i])\n",
    "        im.save(r\"{}\\{}.jpeg\".format(path, i))\n",
    "        \n",
    "def saveLabels(labels, path, labelName):\n",
    "    label = pd.DataFrame()\n",
    "    label[\"label\"] = labels.reshape(len(labels))\n",
    "    label.to_csv(r\"{}\\{}.csv\".format(path, labelName))"
   ]
  },
  {
   "cell_type": "code",
   "execution_count": 2,
   "metadata": {},
   "outputs": [],
   "source": [
    "(train_images, train_labels), (test_images, test_labels) = datasets.cifar10.load_data()\n",
    "\n",
    "saveImages(train_images, r\"E:\\Data\\CIFAR10\\Original\\Train\")\n",
    "saveImages(test_images, r\"E:\\Data\\CIFAR10\\Original\\Test\")\n",
    "\n",
    "saveLabels(train_labels, r\"E:\\Data\\CIFAR10\\Original\", \"Train_Label\")\n",
    "saveLabels(test_labels, r\"E:\\Data\\CIFAR10\\Original\", \"Test_Label\")"
   ]
  }
 ],
 "metadata": {
  "kernelspec": {
   "display_name": "Python 3",
   "language": "python",
   "name": "python3"
  },
  "language_info": {
   "codemirror_mode": {
    "name": "ipython",
    "version": 3
   },
   "file_extension": ".py",
   "mimetype": "text/x-python",
   "name": "python",
   "nbconvert_exporter": "python",
   "pygments_lexer": "ipython3",
   "version": "3.6.8"
  }
 },
 "nbformat": 4,
 "nbformat_minor": 2
}
